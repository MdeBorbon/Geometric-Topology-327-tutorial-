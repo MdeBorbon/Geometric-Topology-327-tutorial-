{
 "cells": [
  {
   "cell_type": "code",
   "execution_count": 305,
   "metadata": {},
   "outputs": [],
   "source": [
    "K = Link([[1,11,2,10],[3,8,4,9],[5,2,6,3],[7,1,8,12],[9,4,10,5],[11,7,12,6]]) #see lecture 5-3"
   ]
  },
  {
   "cell_type": "code",
   "execution_count": 306,
   "metadata": {},
   "outputs": [
    {
     "data": {
      "image/png": "[encoded data removed]",
      "text/plain": [
       "Graphics object consisting of 28 graphics primitives"
      ]
     },
     "execution_count": 306,
     "metadata": {},
     "output_type": "execute_result"
    }
   ],
   "source": [
    "K.plot()"
   ]
  },
  {
   "cell_type": "code",
   "execution_count": 308,
   "metadata": {},
   "outputs": [
    {
     "data": {
      "text/plain": [
       "[[1, 11, 2, 10],\n",
       " [3, 8, 4, 9],\n",
       " [5, 2, 6, 3],\n",
       " [7, 1, 8, 12],\n",
       " [9, 4, 10, 5],\n",
       " [11, 7, 12, 6]]"
      ]
     },
     "execution_count": 308,
     "metadata": {},
     "output_type": "execute_result"
    }
   ],
   "source": [
    "PD = K.pd_code() ; PD #this is the Plane Diagram diagram code we use (it is a Python list of lists)"
   ]
  },
  {
   "cell_type": "code",
   "execution_count": 196,
   "metadata": {},
   "outputs": [],
   "source": [
    "positive_splittings = []\n",
    "negative_splittings = []\n",
    "for i in range(len(PD)):\n",
    "    positive_splittings.append([ [PD[i][0],PD[i][1]], [PD[i][2], PD[i][3]] ])\n",
    "    negative_splittings.append([ [PD[i][1], PD[i][2]], [PD[i][3], PD[i][0]] ])"
   ]
  },
  {
   "cell_type": "code",
   "execution_count": 309,
   "metadata": {},
   "outputs": [
    {
     "data": {
      "text/plain": [
       "([[1, 11], [2, 10]], [[3, 8], [4, 9]])"
      ]
     },
     "execution_count": 309,
     "metadata": {},
     "output_type": "execute_result"
    }
   ],
   "source": [
    "positive_splittings[0], positive_splittings[1] #each of the six cuadruples is divided into 2 ways"
   ]
  },
  {
   "cell_type": "code",
   "execution_count": 310,
   "metadata": {},
   "outputs": [],
   "source": [
    "ps = []\n",
    "ns = []\n",
    "states = []\n",
    "for p in powerset(range(len(PD))):\n",
    "    n = [i for i in range(len(PD)) if i not in p]\n",
    "    pos_pairs = [x for j in p for x in positive_splittings[j]]\n",
    "    neg_pairs = [x for j in n for x in negative_splittings[j]]\n",
    "    ps.append(pos_pairs)\n",
    "    ns.append(neg_pairs)\n",
    "    states.append(pos_pairs+neg_pairs)"
   ]
  },
  {
   "cell_type": "code",
   "execution_count": 311,
   "metadata": {},
   "outputs": [
    {
     "data": {
      "text/plain": [
       "64"
      ]
     },
     "execution_count": 311,
     "metadata": {},
     "output_type": "execute_result"
    }
   ],
   "source": [
    "len(states) #each element of states is a list of 12 pairs corresponding to a final state"
   ]
  },
  {
   "cell_type": "code",
   "execution_count": 312,
   "metadata": {},
   "outputs": [
    {
     "data": {
      "text/plain": [
       "[[1, 11],\n",
       " [2, 10],\n",
       " [5, 2],\n",
       " [6, 3],\n",
       " [9, 4],\n",
       " [10, 5],\n",
       " [11, 7],\n",
       " [12, 6],\n",
       " [8, 4],\n",
       " [9, 3],\n",
       " [1, 8],\n",
       " [12, 7]]"
      ]
     },
     "execution_count": 312,
     "metadata": {},
     "output_type": "execute_result"
    }
   ],
   "source": [
    "states[53] #for example"
   ]
  },
  {
   "cell_type": "code",
   "execution_count": 201,
   "metadata": {},
   "outputs": [],
   "source": [
    "power_set = []\n",
    "for p in powerset(range(len(PD))):\n",
    "    power_set.append(p)"
   ]
  },
  {
   "cell_type": "code",
   "execution_count": 314,
   "metadata": {},
   "outputs": [
    {
     "data": {
      "text/plain": [
       "[0, 2, 4, 5]"
      ]
     },
     "execution_count": 314,
     "metadata": {},
     "output_type": "execute_result"
    }
   ],
   "source": [
    "power_set[53] "
   ]
  },
  {
   "cell_type": "code",
   "execution_count": 315,
   "metadata": {},
   "outputs": [
    {
     "data": {
      "text/plain": [
       "4"
      ]
     },
     "execution_count": 315,
     "metadata": {},
     "output_type": "execute_result"
    }
   ],
   "source": [
    "len(power_set[53]) #this is the number of positive splittings involved in states[53]"
   ]
  },
  {
   "cell_type": "code",
   "execution_count": 316,
   "metadata": {},
   "outputs": [],
   "source": [
    "A = var('A') #this is the variable we use in the Kauffman bracket"
   ]
  },
  {
   "cell_type": "code",
   "execution_count": 317,
   "metadata": {},
   "outputs": [],
   "source": [
    "f = (A^(1/2)+1)*(A^(1/2)-1) + 1 #example"
   ]
  },
  {
   "cell_type": "code",
   "execution_count": 318,
   "metadata": {},
   "outputs": [
    {
     "data": {
      "text/plain": [
       "A"
      ]
     },
     "execution_count": 318,
     "metadata": {},
     "output_type": "execute_result"
    }
   ],
   "source": [
    "f.simplify_full() "
   ]
  },
  {
   "cell_type": "code",
   "execution_count": 319,
   "metadata": {},
   "outputs": [],
   "source": [
    "def loops(L):\n",
    "    loops = []\n",
    "    for i in range(len(L)):\n",
    "        m = L[i]\n",
    "        while True:\n",
    "            pairs = [x for x in L if len(set(m).intersection(x))>0]\n",
    "            m = [n for p in pairs for n in p]\n",
    "            if all(m.count(i) == 2 for i in m):\n",
    "                break\n",
    "        loops.append(m)\n",
    "    return(len(set(map(tuple, loops))))"
   ]
  },
  {
   "cell_type": "code",
   "execution_count": 320,
   "metadata": {},
   "outputs": [
    {
     "data": {
      "text/plain": [
       "2"
      ]
     },
     "execution_count": 320,
     "metadata": {},
     "output_type": "execute_result"
    }
   ],
   "source": [
    "loops(states[53]) #the function loops counts the number of circles in a final state"
   ]
  },
  {
   "cell_type": "code",
   "execution_count": 321,
   "metadata": {},
   "outputs": [
    {
     "name": "stdout",
     "output_type": "stream",
     "text": [
      "-(A^24 - 2*A^20 + 2*A^16 - 3*A^12 + 2*A^8 - 2*A^4 + 1)/A^12\n"
     ]
    }
   ],
   "source": [
    "bracket = 0\n",
    "for i in range(len(states)):\n",
    "    np = len(power_set[i])\n",
    "    nn = len(PD) - len(power_set[i])\n",
    "    bracket = bracket + A^(np)*A^(-nn)*(-A^2-A^(-2))^(loops(states[i])-1)\n",
    "print(bracket.simplify_full())"
   ]
  },
  {
   "cell_type": "markdown",
   "metadata": {},
   "source": [
    "This is agrees with the lectures"
   ]
  }
 ],
 "metadata": {
  "kernelspec": {
   "display_name": "SageMath 9.0",
   "language": "sage",
   "name": "sagemath"
  },
  "language_info": {
   "codemirror_mode": {
    "name": "ipython",
    "version": 3
   },
   "file_extension": ".py",
   "mimetype": "text/x-python",
   "name": "python",
   "nbconvert_exporter": "python",
   "pygments_lexer": "ipython3",
   "version": "3.8.10"
  }
 },
 "nbformat": 4,
 "nbformat_minor": 4
}
