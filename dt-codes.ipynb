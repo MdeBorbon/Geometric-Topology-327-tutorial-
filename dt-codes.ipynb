{
 "cells": [
  {
   "cell_type": "code",
   "execution_count": 91,
   "metadata": {},
   "outputs": [],
   "source": [
    "K = Knots().from_dowker_code([2,4,6,8])"
   ]
  },
  {
   "cell_type": "code",
   "execution_count": 92,
   "metadata": {},
   "outputs": [
    {
     "data": {
      "image/png": "[encoded data removed]",
      "text/plain": [
       "Graphics object consisting of 12 graphics primitives"
      ]
     },
     "execution_count": 92,
     "metadata": {},
     "output_type": "execute_result"
    }
   ],
   "source": [
    "K.plot()"
   ]
  },
  {
   "cell_type": "markdown",
   "metadata": {},
   "source": [
    "I use the homfly polynomial because there seems to be a problem with the jones in SAGE"
   ]
  },
  {
   "cell_type": "code",
   "execution_count": 93,
   "metadata": {},
   "outputs": [
    {
     "data": {
      "text/plain": [
       "1"
      ]
     },
     "execution_count": 93,
     "metadata": {},
     "output_type": "execute_result"
    }
   ],
   "source": [
    "K.homfly_polynomial()"
   ]
  },
  {
   "cell_type": "code",
   "execution_count": 100,
   "metadata": {},
   "outputs": [],
   "source": [
    "K4_1 = Knots().from_table(4,1) #the figure eight knot"
   ]
  },
  {
   "cell_type": "code",
   "execution_count": 101,
   "metadata": {},
   "outputs": [],
   "source": [
    "p4_1 = K4_1.homfly_polynomial()"
   ]
  },
  {
   "cell_type": "code",
   "execution_count": 102,
   "metadata": {},
   "outputs": [
    {
     "data": {
      "text/plain": [
       "<class 'sage.rings.polynomial.laurent_polynomial.LaurentPolynomial_mpair'>"
      ]
     },
     "execution_count": 102,
     "metadata": {},
     "output_type": "execute_result"
    }
   ],
   "source": [
    "type(p4_1)"
   ]
  },
  {
   "cell_type": "code",
   "execution_count": 104,
   "metadata": {},
   "outputs": [
    {
     "data": {
      "text/plain": [
       "Permutations of the set [2, 4, 6, 8]"
      ]
     },
     "execution_count": 104,
     "metadata": {},
     "output_type": "execute_result"
    }
   ],
   "source": [
    "DT4 = Permutations([2,4,6,8]) ; DT4 #this is a python list of lists"
   ]
  },
  {
   "cell_type": "markdown",
   "metadata": {},
   "source": [
    "Below we count how many unknots and figure eights knots we get by doing dt codes permutations of 2,4,6,8"
   ]
  },
  {
   "cell_type": "code",
   "execution_count": 105,
   "metadata": {},
   "outputs": [
    {
     "name": "stdout",
     "output_type": "stream",
     "text": [
      "unknots = 14 figure eights = 2\n"
     ]
    }
   ],
   "source": [
    "k1=0\n",
    "k2=0\n",
    "for i in range(len(DT4)):\n",
    "    K = Knots().from_dowker_code(DT4[i])\n",
    "    if K.homfly_polynomial() == 1 :\n",
    "        k1 = k1 + 1\n",
    "    elif K.homfly_polynomial() == p4_1 :\n",
    "        k2 = k2 + 1\n",
    "print('unknots =', k1, 'figure eights =', k2)        "
   ]
  },
  {
   "cell_type": "markdown",
   "metadata": {},
   "source": [
    "We will also count the number of right/left handed trefoils"
   ]
  },
  {
   "cell_type": "code",
   "execution_count": 106,
   "metadata": {},
   "outputs": [],
   "source": [
    "L3_1 = Knots().from_table(3,1)"
   ]
  },
  {
   "cell_type": "code",
   "execution_count": 107,
   "metadata": {},
   "outputs": [
    {
     "data": {
      "text/plain": [
       "-3"
      ]
     },
     "execution_count": 107,
     "metadata": {},
     "output_type": "execute_result"
    }
   ],
   "source": [
    "L3_1.writhe()"
   ]
  },
  {
   "cell_type": "code",
   "execution_count": 108,
   "metadata": {},
   "outputs": [],
   "source": [
    "R3_1 = L3_1.mirror_image()"
   ]
  },
  {
   "cell_type": "code",
   "execution_count": 109,
   "metadata": {},
   "outputs": [],
   "source": [
    "l3_1 = L3_1.homfly_polynomial()"
   ]
  },
  {
   "cell_type": "code",
   "execution_count": 110,
   "metadata": {},
   "outputs": [],
   "source": [
    "r3_1 = R3_1.homfly_polynomial()"
   ]
  },
  {
   "cell_type": "markdown",
   "metadata": {},
   "source": [
    "We count all knots given by dt codes permutations of 2,4,6,8"
   ]
  },
  {
   "cell_type": "code",
   "execution_count": 111,
   "metadata": {},
   "outputs": [
    {
     "name": "stdout",
     "output_type": "stream",
     "text": [
      "unknots = 14 , left handed trefolis = 1 , right handed trefoils = 7 , figure eights = 2\n"
     ]
    }
   ],
   "source": [
    "k1=0\n",
    "k2=0\n",
    "k3=0\n",
    "k4=0\n",
    "for c in DT4:\n",
    "    K = Knots().from_dowker_code(c)\n",
    "    if K.homfly_polynomial() == 1 :\n",
    "        k1 = k1 + 1\n",
    "    elif K.homfly_polynomial() == p4_1 :\n",
    "        k2 = k2 + 1\n",
    "    elif K.homfly_polynomial() == l3_1 :\n",
    "        k3 = k3 + 1\n",
    "    elif K.homfly_polynomial() == r3_1 :\n",
    "        k4 = k4 + 1\n",
    "print('unknots =', k1,', left handed trefolis =',  k3, ', right handed trefoils =', k4, ', figure eights =', k2)    "
   ]
  },
  {
   "cell_type": "markdown",
   "metadata": {},
   "source": [
    "The number of left handed is not equal to the number of right handed! I thought it would be 4,4"
   ]
  },
  {
   "cell_type": "markdown",
   "metadata": {},
   "source": [
    "Let's check Simon's assertion that there are 12 out of the 720 permutations of 2,4,6,8,10,12 that are dt codes of 6_3"
   ]
  },
  {
   "cell_type": "code",
   "execution_count": 112,
   "metadata": {},
   "outputs": [],
   "source": [
    "K6_3 = Knots().from_table(6,3)"
   ]
  },
  {
   "cell_type": "code",
   "execution_count": 113,
   "metadata": {},
   "outputs": [
    {
     "data": {
      "text/plain": [
       "[6, 12, 10, 2, 4, 8]"
      ]
     },
     "execution_count": 113,
     "metadata": {},
     "output_type": "execute_result"
    }
   ],
   "source": [
    "K6_3.dt_code()"
   ]
  },
  {
   "cell_type": "code",
   "execution_count": 114,
   "metadata": {},
   "outputs": [],
   "source": [
    "p6_3 = K6_3.homfly_polynomial()"
   ]
  },
  {
   "cell_type": "code",
   "execution_count": 115,
   "metadata": {},
   "outputs": [],
   "source": [
    "DT6 = Permutations([2,4,6,8,10,12])"
   ]
  },
  {
   "cell_type": "code",
   "execution_count": 116,
   "metadata": {},
   "outputs": [
    {
     "name": "stdout",
     "output_type": "stream",
     "text": [
      "12\n"
     ]
    }
   ],
   "source": [
    "W = Knots()\n",
    "k=0\n",
    "for i in range(len(DT6)):\n",
    "    try:\n",
    "        K = W.from_dowker_code(DT6[i])\n",
    "        if K.homfly_polynomial() == p6_3:\n",
    "            k=k+1\n",
    "    except:\n",
    "        pass\n",
    "print(k)"
   ]
  },
  {
   "cell_type": "markdown",
   "metadata": {},
   "source": [
    "The try/except is to deal with permutations which are not dt codes. Warning! we have used that homfly distingushes knots, but this only holds for crossing number less or equal than 8, I think. "
   ]
  }
 ],
 "metadata": {
  "kernelspec": {
   "display_name": "SageMath 9.0",
   "language": "sage",
   "name": "sagemath"
  },
  "language_info": {
   "codemirror_mode": {
    "name": "ipython",
    "version": 3
   },
   "file_extension": ".py",
   "mimetype": "text/x-python",
   "name": "python",
   "nbconvert_exporter": "python",
   "pygments_lexer": "ipython3",
   "version": "3.8.10"
  }
 },
 "nbformat": 4,
 "nbformat_minor": 4
}
