{
 "cells": [
  {
   "cell_type": "code",
   "execution_count": 1,
   "metadata": {},
   "outputs": [],
   "source": [
    "K6_3 = Knots().from_table(6,3)"
   ]
  },
  {
   "cell_type": "code",
   "execution_count": 3,
   "metadata": {},
   "outputs": [
    {
     "data": {
      "image/png": "[encoded data removed]",
      "text/plain": [
       "Graphics object consisting of 28 graphics primitives"
      ]
     },
     "execution_count": 3,
     "metadata": {},
     "output_type": "execute_result"
    }
   ],
   "source": [
    "K6_3.plot()"
   ]
  },
  {
   "cell_type": "code",
   "execution_count": 7,
   "metadata": {},
   "outputs": [
    {
     "data": {
      "text/plain": [
       "[[1, 4, 5, 2],\n",
       " [4, 6, 7, 5],\n",
       " [3, 7, 8, 9],\n",
       " [6, 1, 11, 8],\n",
       " [9, 11, 12, 13],\n",
       " [13, 12, 2, 3]]"
      ]
     },
     "execution_count": 7,
     "metadata": {},
     "output_type": "execute_result"
    }
   ],
   "source": [
    "PD  = K6_3.pd_code() ; PD"
   ]
  },
  {
   "cell_type": "markdown",
   "metadata": {},
   "source": [
    "13? The diagram is alternating, so I should expect integers up to 12 (because each of the 6 arcs is divided into two). \n",
    "\n",
    "This notation for the pd code is different from the lectures/Mathematica. At a crossing [a,b,c,d] the pairs (a,c) and (b,d) are not consecutive intergers (contrary to the lectures)."
   ]
  },
  {
   "cell_type": "code",
   "execution_count": 4,
   "metadata": {},
   "outputs": [
    {
     "data": {
      "text/plain": [
       "-t^-12 + 2*t^-8 - 2*t^-4 + 3 - 2*t^4 + 2*t^8 - t^12"
      ]
     },
     "execution_count": 4,
     "metadata": {},
     "output_type": "execute_result"
    }
   ],
   "source": [
    "K6_3._bracket() #the Kauffmann bracket is correct with t = A"
   ]
  },
  {
   "cell_type": "code",
   "execution_count": 5,
   "metadata": {},
   "outputs": [
    {
     "data": {
      "text/plain": [
       "-t^3 + 2*t^2 - 2*t - 2/t + 2/t^2 - 1/t^3 + 3"
      ]
     },
     "execution_count": 5,
     "metadata": {},
     "output_type": "execute_result"
    }
   ],
   "source": [
    "K6_3.jones_polynomial()"
   ]
  },
  {
   "cell_type": "code",
   "execution_count": 6,
   "metadata": {},
   "outputs": [
    {
     "data": {
      "text/plain": [
       "0"
      ]
     },
     "execution_count": 6,
     "metadata": {},
     "output_type": "execute_result"
    }
   ],
   "source": [
    "K6_3.writhe()"
   ]
  },
  {
   "cell_type": "code",
   "execution_count": 13,
   "metadata": {},
   "outputs": [],
   "source": [
    "positive_splittings = []\n",
    "negative_splittings = []\n",
    "for i in range(len(PD)):\n",
    "    positive_splittings.append([ [PD[i][0],PD[i][1]], [PD[i][2], PD[i][3]] ])\n",
    "    negative_splittings.append([ [PD[i][0], PD[i][3]], [PD[i][1], PD[i][2]] ])"
   ]
  },
  {
   "cell_type": "code",
   "execution_count": 14,
   "metadata": {},
   "outputs": [],
   "source": [
    "ps0 = []\n",
    "ps1 = []\n",
    "ns0 = []\n",
    "ns1 = []\n",
    "for p in powerset(range(len(PD))):\n",
    "    n = [i for i in range(len(PD)) if i not in p]\n",
    "    ps0.append([positive_splittings[j][0] for j in p])\n",
    "    ps1.append([positive_splittings[j][1] for j in p])\n",
    "    ns0.append([negative_splittings[j][0] for j in n])\n",
    "    ns1.append([negative_splittings[j][1] for j in n])"
   ]
  },
  {
   "cell_type": "code",
   "execution_count": 12,
   "metadata": {},
   "outputs": [],
   "source": [
    "states = []\n",
    "for i in range(len(ps0)):\n",
    "    s = ps0[i]+ps1[i]+ns0[i]+ns1[i]\n",
    "    states.append(s)"
   ]
  },
  {
   "cell_type": "code",
   "execution_count": 15,
   "metadata": {},
   "outputs": [
    {
     "data": {
      "text/plain": [
       "64"
      ]
     },
     "execution_count": 15,
     "metadata": {},
     "output_type": "execute_result"
    }
   ],
   "source": [
    "len(states) # states is the list of final states, each element of the list is made of 12 pairs"
   ]
  },
  {
   "cell_type": "code",
   "execution_count": 16,
   "metadata": {},
   "outputs": [
    {
     "data": {
      "text/plain": [
       "[[1, 4],\n",
       " [3, 7],\n",
       " [13, 12],\n",
       " [5, 2],\n",
       " [8, 9],\n",
       " [2, 3],\n",
       " [4, 5],\n",
       " [6, 8],\n",
       " [9, 13],\n",
       " [6, 7],\n",
       " [1, 11],\n",
       " [11, 12]]"
      ]
     },
     "execution_count": 16,
     "metadata": {},
     "output_type": "execute_result"
    }
   ],
   "source": [
    "states[37] # each crossing cotributes with a pair e.g. [1,4] and [5,2] come from 1st crossing"
   ]
  },
  {
   "cell_type": "code",
   "execution_count": 17,
   "metadata": {},
   "outputs": [
    {
     "data": {
      "text/plain": [
       "12"
      ]
     },
     "execution_count": 17,
     "metadata": {},
     "output_type": "execute_result"
    }
   ],
   "source": [
    "len(states[37])"
   ]
  },
  {
   "cell_type": "code",
   "execution_count": 18,
   "metadata": {},
   "outputs": [
    {
     "data": {
      "text/plain": [
       "3"
      ]
     },
     "execution_count": 18,
     "metadata": {},
     "output_type": "execute_result"
    }
   ],
   "source": [
    "len(ps0[37]) # this counts the number of positive splittings involved in states[37]"
   ]
  },
  {
   "cell_type": "markdown",
   "metadata": {},
   "source": [
    "Looking at states[37] we see that 7 appears twice on the second place. In particular, a sequence ..,3,7 doesn't close. So, using this labelling, we can't count the number of unkots as in the lectures."
   ]
  },
  {
   "cell_type": "code",
   "execution_count": null,
   "metadata": {},
   "outputs": [],
   "source": []
  }
 ],
 "metadata": {
  "kernelspec": {
   "display_name": "SageMath 9.0",
   "language": "sage",
   "name": "sagemath"
  },
  "language_info": {
   "codemirror_mode": {
    "name": "ipython",
    "version": 3
   },
   "file_extension": ".py",
   "mimetype": "text/x-python",
   "name": "python",
   "nbconvert_exporter": "python",
   "pygments_lexer": "ipython3",
   "version": "3.8.10"
  }
 },
 "nbformat": 4,
 "nbformat_minor": 4
}
